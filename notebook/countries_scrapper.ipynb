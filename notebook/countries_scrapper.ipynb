{
 "cells": [
  {
   "cell_type": "code",
   "execution_count": 1,
   "id": "ecc1b8de-6b65-479d-a43d-fc3706f662be",
   "metadata": {},
   "outputs": [],
   "source": [
    "import pandas as pd"
   ]
  },
  {
   "cell_type": "code",
   "execution_count": 2,
   "id": "17dbb6cf-e75a-4a6b-a7f7-65663694fd24",
   "metadata": {},
   "outputs": [],
   "source": [
    "df = pd.read_html('https://en.wikipedia.org/wiki/List_of_ISO_3166_country_codes')"
   ]
  },
  {
   "cell_type": "code",
   "execution_count": 4,
   "id": "3fc7ccd8-527e-42ee-90b4-c2cbcb1d1eff",
   "metadata": {},
   "outputs": [],
   "source": [
    "countries = df[0]"
   ]
  },
  {
   "cell_type": "code",
   "execution_count": 8,
   "id": "eebea080-5777-4612-999c-cf637669936e",
   "metadata": {},
   "outputs": [],
   "source": [
    "df_results = pd.DataFrame(countries).head()"
   ]
  },
  {
   "cell_type": "code",
   "execution_count": 10,
   "id": "5f6447e4-f689-443c-ae81-a2907dac4a5a",
   "metadata": {},
   "outputs": [],
   "source": [
    "df_results.to_csv('countries.csv', index=False)"
   ]
  },
  {
   "cell_type": "code",
   "execution_count": null,
   "id": "50ca3117-7421-4a50-a497-136f34fcb308",
   "metadata": {},
   "outputs": [],
   "source": []
  }
 ],
 "metadata": {
  "kernelspec": {
   "display_name": "Python 3 (ipykernel)",
   "language": "python",
   "name": "python3"
  },
  "language_info": {
   "codemirror_mode": {
    "name": "ipython",
    "version": 3
   },
   "file_extension": ".py",
   "mimetype": "text/x-python",
   "name": "python",
   "nbconvert_exporter": "python",
   "pygments_lexer": "ipython3",
   "version": "3.11.7"
  }
 },
 "nbformat": 4,
 "nbformat_minor": 5
}
