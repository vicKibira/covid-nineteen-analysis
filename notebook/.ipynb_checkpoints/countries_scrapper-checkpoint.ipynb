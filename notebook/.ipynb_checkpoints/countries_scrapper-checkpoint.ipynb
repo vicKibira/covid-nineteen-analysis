{
 "cells": [
  {
   "cell_type": "code",
   "execution_count": 1,
   "id": "ecc1b8de-6b65-479d-a43d-fc3706f662be",
   "metadata": {},
   "outputs": [],
   "source": [
    "import pandas as pd"
   ]
  },
  {
   "cell_type": "code",
   "execution_count": 2,
   "id": "17dbb6cf-e75a-4a6b-a7f7-65663694fd24",
   "metadata": {},
   "outputs": [],
   "source": [
    "df = pd.read_html('https://en.wikipedia.org/wiki/List_of_ISO_3166_country_codes')"
   ]
  },
  {
   "cell_type": "code",
   "execution_count": 4,
   "id": "3fc7ccd8-527e-42ee-90b4-c2cbcb1d1eff",
   "metadata": {},
   "outputs": [],
   "source": [
    "countries = df[0]"
   ]
  },
  {
   "cell_type": "code",
   "execution_count": 8,
   "id": "eebea080-5777-4612-999c-cf637669936e",
   "metadata": {},
   "outputs": [],
   "source": [
    "df_results = pd.DataFrame(countries).head()"
   ]
  },
  {
   "cell_type": "code",
   "execution_count": 9,
   "id": "5f6447e4-f689-443c-ae81-a2907dac4a5a",
   "metadata": {},
   "outputs": [
    {
     "data": {
      "text/html": [
       "<div>\n",
       "<style scoped>\n",
       "    .dataframe tbody tr th:only-of-type {\n",
       "        vertical-align: middle;\n",
       "    }\n",
       "\n",
       "    .dataframe tbody tr th {\n",
       "        vertical-align: top;\n",
       "    }\n",
       "\n",
       "    .dataframe thead tr th {\n",
       "        text-align: left;\n",
       "    }\n",
       "</style>\n",
       "<table border=\"1\" class=\"dataframe\">\n",
       "  <thead>\n",
       "    <tr>\n",
       "      <th></th>\n",
       "      <th>ISO 3166[1] name[5]</th>\n",
       "      <th>World Factbook[6] official state name[a]</th>\n",
       "      <th>Sovereignty [6][7][8]</th>\n",
       "      <th colspan=\"3\" halign=\"left\">ISO 3166-1[2]</th>\n",
       "      <th>ISO 3166-2[3] subdivision codes link</th>\n",
       "      <th>TLD [9]</th>\n",
       "    </tr>\n",
       "    <tr>\n",
       "      <th></th>\n",
       "      <th>ISO 3166[1] name[5]</th>\n",
       "      <th>World Factbook[6] official state name[a]</th>\n",
       "      <th>Sovereignty [6][7][8]</th>\n",
       "      <th>A-2 [5]</th>\n",
       "      <th>A-3 [5]</th>\n",
       "      <th>Num. [5]</th>\n",
       "      <th>ISO 3166-2[3] subdivision codes link</th>\n",
       "      <th>TLD [9]</th>\n",
       "    </tr>\n",
       "  </thead>\n",
       "  <tbody>\n",
       "    <tr>\n",
       "      <th>0</th>\n",
       "      <td>Afghanistan</td>\n",
       "      <td>The Islamic Republic of Afghanistan</td>\n",
       "      <td>UN member</td>\n",
       "      <td>AF</td>\n",
       "      <td>AFG</td>\n",
       "      <td>004</td>\n",
       "      <td>ISO 3166-2:AF</td>\n",
       "      <td>.af</td>\n",
       "    </tr>\n",
       "    <tr>\n",
       "      <th>1</th>\n",
       "      <td>Åland Islands</td>\n",
       "      <td>Åland</td>\n",
       "      <td>Finland</td>\n",
       "      <td>AX</td>\n",
       "      <td>ALA</td>\n",
       "      <td>248</td>\n",
       "      <td>ISO 3166-2:AX</td>\n",
       "      <td>.ax</td>\n",
       "    </tr>\n",
       "    <tr>\n",
       "      <th>2</th>\n",
       "      <td>Albania</td>\n",
       "      <td>The Republic of Albania</td>\n",
       "      <td>UN member</td>\n",
       "      <td>AL</td>\n",
       "      <td>ALB</td>\n",
       "      <td>008</td>\n",
       "      <td>ISO 3166-2:AL</td>\n",
       "      <td>.al</td>\n",
       "    </tr>\n",
       "    <tr>\n",
       "      <th>3</th>\n",
       "      <td>Algeria</td>\n",
       "      <td>The People's Democratic Republic of Algeria</td>\n",
       "      <td>UN member</td>\n",
       "      <td>DZ</td>\n",
       "      <td>DZA</td>\n",
       "      <td>012</td>\n",
       "      <td>ISO 3166-2:DZ</td>\n",
       "      <td>.dz</td>\n",
       "    </tr>\n",
       "    <tr>\n",
       "      <th>4</th>\n",
       "      <td>American Samoa</td>\n",
       "      <td>The Territory of American Samoa</td>\n",
       "      <td>United States</td>\n",
       "      <td>AS</td>\n",
       "      <td>ASM</td>\n",
       "      <td>016</td>\n",
       "      <td>ISO 3166-2:AS</td>\n",
       "      <td>.as</td>\n",
       "    </tr>\n",
       "  </tbody>\n",
       "</table>\n",
       "</div>"
      ],
      "text/plain": [
       "  ISO 3166[1] name[5]     World Factbook[6] official state name[a]  \\\n",
       "  ISO 3166[1] name[5]     World Factbook[6] official state name[a]   \n",
       "0         Afghanistan          The Islamic Republic of Afghanistan   \n",
       "1       Åland Islands                                        Åland   \n",
       "2             Albania                      The Republic of Albania   \n",
       "3             Algeria  The People's Democratic Republic of Algeria   \n",
       "4      American Samoa              The Territory of American Samoa   \n",
       "\n",
       "  Sovereignty [6][7][8] ISO 3166-1[2]                   \\\n",
       "  Sovereignty [6][7][8]       A-2 [5] A-3 [5] Num. [5]   \n",
       "0             UN member            AF     AFG      004   \n",
       "1               Finland            AX     ALA      248   \n",
       "2             UN member            AL     ALB      008   \n",
       "3             UN member            DZ     DZA      012   \n",
       "4         United States            AS     ASM      016   \n",
       "\n",
       "  ISO 3166-2[3] subdivision codes link TLD [9]  \n",
       "  ISO 3166-2[3] subdivision codes link TLD [9]  \n",
       "0                        ISO 3166-2:AF     .af  \n",
       "1                        ISO 3166-2:AX     .ax  \n",
       "2                        ISO 3166-2:AL     .al  \n",
       "3                        ISO 3166-2:DZ     .dz  \n",
       "4                        ISO 3166-2:AS     .as  "
      ]
     },
     "execution_count": 9,
     "metadata": {},
     "output_type": "execute_result"
    }
   ],
   "source": [
    "df_results"
   ]
  },
  {
   "cell_type": "code",
   "execution_count": null,
   "id": "50ca3117-7421-4a50-a497-136f34fcb308",
   "metadata": {},
   "outputs": [],
   "source": []
  }
 ],
 "metadata": {
  "kernelspec": {
   "display_name": "Python 3 (ipykernel)",
   "language": "python",
   "name": "python3"
  },
  "language_info": {
   "codemirror_mode": {
    "name": "ipython",
    "version": 3
   },
   "file_extension": ".py",
   "mimetype": "text/x-python",
   "name": "python",
   "nbconvert_exporter": "python",
   "pygments_lexer": "ipython3",
   "version": "3.11.7"
  }
 },
 "nbformat": 4,
 "nbformat_minor": 5
}
